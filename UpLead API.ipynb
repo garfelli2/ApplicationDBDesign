{
 "cells": [
  {
   "cell_type": "code",
   "execution_count": 1,
   "id": "e15b686f",
   "metadata": {},
   "outputs": [],
   "source": [
    "import pyodbc\n",
    "import requests\n",
    "\n",
    "DBServerName = 'applinkedin.database.windows.net'\n",
    "\n",
    "conn = pyodbc.connect('Driver={SQL Server};'\n",
    "                      'Server=applinkedin.database.windows.net;' #your server name\n",
    "                      'Database=-------------;'                  #your DB\n",
    "                      'UID=-------------;'                     #your user       \n",
    "                      'PWD=-------------')                           #your password\n",
    "cursor = conn.cursor()\n"
   ]
  },
  {
   "cell_type": "markdown",
   "id": "c7793123",
   "metadata": {},
   "source": [
    "## Get request and output as json for manipulation"
   ]
  },
  {
   "cell_type": "code",
   "execution_count": 2,
   "id": "6e6d82ac",
   "metadata": {},
   "outputs": [],
   "source": [
    "url = 'https://api.uplead.com/v2/company-search?company=amazon'\n",
    "headers = {'Authorization': '-------------'} #use your API key\n",
    "out = requests.request('GET',url,headers=headers).json()\n"
   ]
  },
  {
   "cell_type": "markdown",
   "id": "e053b37f",
   "metadata": {},
   "source": [
    "##  See json dictionary keys "
   ]
  },
  {
   "cell_type": "code",
   "execution_count": 3,
   "id": "d0e58289",
   "metadata": {},
   "outputs": [
    {
     "name": "stdout",
     "output_type": "stream",
     "text": [
      "data\n",
      "userInfo\n"
     ]
    }
   ],
   "source": [
    "for i in out:\n",
    "    print(i)"
   ]
  },
  {
   "cell_type": "markdown",
   "id": "0e8201e5",
   "metadata": {},
   "source": [
    "## See dictionary keys inside 'data'"
   ]
  },
  {
   "cell_type": "code",
   "execution_count": 4,
   "id": "c82d69d9",
   "metadata": {},
   "outputs": [
    {
     "name": "stdout",
     "output_type": "stream",
     "text": [
      "id\n",
      "company_name\n",
      "address\n",
      "city\n",
      "state\n",
      "county\n",
      "country\n",
      "zip\n",
      "phone_number\n",
      "fax_number\n",
      "revenue\n",
      "industry\n",
      "naics_description\n",
      "description\n",
      "naics_code\n",
      "domain\n",
      "employees\n",
      "linkedin_url\n",
      "twitter_url\n",
      "facebook_url\n",
      "youtube_url\n",
      "crunchbase_url\n",
      "yelp_url\n",
      "instagram_url\n",
      "type\n",
      "ticker\n",
      "exchange\n",
      "alexa_rank\n",
      "year_founded\n",
      "sic_code\n",
      "sic_description\n",
      "logo\n"
     ]
    }
   ],
   "source": [
    "for i in out['data']:\n",
    "    print(i)"
   ]
  },
  {
   "cell_type": "markdown",
   "id": "e114f265",
   "metadata": {},
   "source": [
    "## Assigning data as out['data'] for readibility and populating variables with its content"
   ]
  },
  {
   "cell_type": "code",
   "execution_count": 5,
   "id": "5ee9242a",
   "metadata": {},
   "outputs": [
    {
     "name": "stdout",
     "output_type": "stream",
     "text": [
      "410 Terry Ave N WA 98109-5210\n"
     ]
    }
   ],
   "source": [
    "data = out['data']\n",
    "street = data['address']\n",
    "state = data['state']\n",
    "zip = data['zip']\n",
    "\n",
    "print(street, state,zip)"
   ]
  },
  {
   "cell_type": "markdown",
   "id": "4b636343",
   "metadata": {},
   "source": [
    "## Code works, time to adjust it and follow the plan. \n",
    "## The application must retrieve company names from the ApplicationDB and use those names on the API to get information about street, state, and zip. \n",
    "### For testing purposes, let's see what is inside the Company table first"
   ]
  },
  {
   "cell_type": "code",
   "execution_count": 10,
   "id": "332d65cd",
   "metadata": {},
   "outputs": [
    {
     "name": "stdout",
     "output_type": "stream",
     "text": [
      "(1, 'Microsoft', None, None, None)\n",
      "(2, 'Apple', None, None, None)\n",
      "(3, 'Amazon', None, None, None)\n"
     ]
    },
    {
     "name": "stderr",
     "output_type": "stream",
     "text": [
      "C:\\Users\\Gui\\AppData\\Local\\Temp\\ipykernel_31124\\3064811835.py:4: DeprecationWarning: PyUnicode_FromUnicode(NULL, size) is deprecated; use PyUnicode_New() instead\n",
      "  print(i)\n"
     ]
    }
   ],
   "source": [
    "before_select = 'select * from company'\n",
    "before_out = cursor.execute(before_select)\n",
    "for i in before_out: \n",
    "    print(i)"
   ]
  },
  {
   "cell_type": "markdown",
   "id": "e0d5bca6",
   "metadata": {},
   "source": [
    "### Microsoft, Apple, Amazon have None values for street, state, and zip"
   ]
  },
  {
   "cell_type": "markdown",
   "id": "74a74e22",
   "metadata": {},
   "source": [
    "### First step is to retrieve info from DB. name_list is a list comprehension that simulates a for loop and creates a list with the results"
   ]
  },
  {
   "cell_type": "code",
   "execution_count": 11,
   "id": "ac608adc",
   "metadata": {},
   "outputs": [
    {
     "name": "stdout",
     "output_type": "stream",
     "text": [
      "['Amazon', 'Apple', 'Microsoft']\n"
     ]
    }
   ],
   "source": [
    "select_statement = 'select Name from Company'\n",
    "db_out = cursor.execute(select_statement)\n",
    "name_list = [i[0] for i in db_out]\n",
    "print(name_list)"
   ]
  },
  {
   "cell_type": "markdown",
   "id": "24deebce",
   "metadata": {},
   "source": [
    "### Repeat code from before but substitute URL for Company name. Then, update the missing values on the DB with new information. \n",
    "\n",
    "    "
   ]
  },
  {
   "cell_type": "code",
   "execution_count": 12,
   "id": "7be0cd9a",
   "metadata": {},
   "outputs": [
    {
     "name": "stdout",
     "output_type": "stream",
     "text": [
      "410 Terry Ave N WA 98109-5210\n",
      "1 Apple Park Way CA 95014-0642\n",
      "39 Quai Du Président Roosevelt None 92130\n"
     ]
    }
   ],
   "source": [
    "for i in name_list:\n",
    "    url = f'https://api.uplead.com/v2/company-search?company={i}'\n",
    "    headers = {'Authorization': 'fa79bda7ebe6cf411046980814a0d06e'}\n",
    "    out = requests.request('GET',url,headers=headers).json()\n",
    "    data = out['data']\n",
    "    street = data['address']\n",
    "    state = data['state']\n",
    "    zip = data['zip']\n",
    "    print(street,state,zip)\n",
    "    update = 'update Company set Street = (?) ,State =(?) ,Zip =(?) where Name = (?)'\n",
    "    cursor.execute(update,street,state,zip,i)\n",
    "    cursor.commit()"
   ]
  },
  {
   "cell_type": "code",
   "execution_count": 13,
   "id": "382e1495",
   "metadata": {},
   "outputs": [
    {
     "name": "stdout",
     "output_type": "stream",
     "text": [
      "(1, 'Microsoft', '39 Quai Du Président Roosevelt', None, '92130')\n",
      "(2, 'Apple', '1 Apple Park Way', 'CA', '95014-0642')\n",
      "(3, 'Amazon', '410 Terry Ave N', 'WA', '98109-5210')\n"
     ]
    },
    {
     "name": "stderr",
     "output_type": "stream",
     "text": [
      "C:\\Users\\Gui\\AppData\\Local\\Temp\\ipykernel_31124\\562489209.py:4: DeprecationWarning: PyUnicode_FromUnicode(NULL, size) is deprecated; use PyUnicode_New() instead\n",
      "  print(i)\n"
     ]
    }
   ],
   "source": [
    "after_update = 'select * from company'\n",
    "after_out = cursor.execute(after_update)\n",
    "for i in after_out:\n",
    "    print(i)"
   ]
  },
  {
   "cell_type": "markdown",
   "id": "c974a5e0",
   "metadata": {},
   "source": [
    "### All works. The script takes information from the Database Company table and uses those company names as an argument for UpLead API. It retrieves information for street, state, and zip and updates the values on the database. "
   ]
  },
  {
   "cell_type": "markdown",
   "id": "3b36d762",
   "metadata": {},
   "source": [
    "# Final Notes & Improvements\n",
    "## This script is supposed to automate the process of filling the information, therefore, it should be placed in a cloud environment where it can run every X minutes\n",
    "## One major improvement is to write a better select query. For now, it always selects all companies in the table. In the future, it should only select the companies where address, state, and zip = null. \n",
    "## That saves computing power and we work with smaller datasets. It only captures companies who don't have address information instead of repeating all of them again. "
   ]
  }
 ],
 "metadata": {
  "kernelspec": {
   "display_name": "Python 3 (ipykernel)",
   "language": "python",
   "name": "python3"
  },
  "language_info": {
   "codemirror_mode": {
    "name": "ipython",
    "version": 3
   },
   "file_extension": ".py",
   "mimetype": "text/x-python",
   "name": "python",
   "nbconvert_exporter": "python",
   "pygments_lexer": "ipython3",
   "version": "3.10.1"
  }
 },
 "nbformat": 4,
 "nbformat_minor": 5
}
